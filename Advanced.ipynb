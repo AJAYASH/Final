{
  "cells": [
    {
      "cell_type": "code",
      "execution_count": null,
      "metadata": {
        "id": "MHRiD_k5cgHs"
      },
      "outputs": [],
      "source": [
        "pip install streamlit -q"
      ]
    },
    {
      "cell_type": "code",
      "execution_count": null,
      "metadata": {
        "id": "OixXXh2ecgJq"
      },
      "outputs": [],
      "source": [
        "pip install plotly -q"
      ]
    },
    {
      "cell_type": "code",
      "execution_count": null,
      "metadata": {
        "id": "oUcDKwm7cgMe"
      },
      "outputs": [],
      "source": [
        "pip install pandas -q"
      ]
    },
    {
      "cell_type": "code",
      "execution_count": null,
      "metadata": {
        "id": "-LdvFG_UcgPa"
      },
      "outputs": [],
      "source": [
        "pip install chart_studio -q"
      ]
    },
    {
      "cell_type": "code",
      "execution_count": null,
      "metadata": {
        "id": "OprUTc-jcgSg"
      },
      "outputs": [],
      "source": [
        "pip install fbprophet -q"
      ]
    },
    {
      "cell_type": "code",
      "execution_count": null,
      "metadata": {
        "id": "YtV38zlVbvBV"
      },
      "outputs": [],
      "source": [
        "pip install yfinance -q"
      ]
    },
    {
      "cell_type": "code",
      "execution_count": null,
      "metadata": {
        "id": "OxDPOeqAR7Gq"
      },
      "outputs": [],
      "source": [
        "pip install numpy -q"
      ]
    },
    {
      "cell_type": "code",
      "execution_count": null,
      "metadata": {
        "id": "nsoo3TAMzeZW"
      },
      "outputs": [],
      "source": [
        "pip install npm -q"
      ]
    },
    {
      "cell_type": "code",
      "execution_count": null,
      "metadata": {
        "id": "krzFNnx0RrhQ"
      },
      "outputs": [],
      "source": [
        "pip install matplotlib -q"
      ]
    },
    {
      "cell_type": "code",
      "execution_count": null,
      "metadata": {
        "id": "USX5krmuRtBu"
      },
      "outputs": [],
      "source": [
        "pip install seaborn -q"
      ]
    },
    {
      "cell_type": "code",
      "execution_count": null,
      "metadata": {
        "id": "HaI0pHIvRr3c"
      },
      "outputs": [],
      "source": [
        "pip install base64 -q"
      ]
    },
    {
      "cell_type": "code",
      "execution_count": null,
      "metadata": {
        "id": "xHzmhEPnjdVk"
      },
      "outputs": [],
      "source": [
        "pip install spacy -q"
      ]
    },
    {
      "cell_type": "code",
      "source": [
        "pip install os -q"
      ],
      "metadata": {
        "id": "hoc8zSQdrAZw"
      },
      "execution_count": null,
      "outputs": []
    },
    {
      "cell_type": "code",
      "source": [
        "pip install bs4 -q"
      ],
      "metadata": {
        "id": "RQIvRJXdrKx0"
      },
      "execution_count": null,
      "outputs": []
    },
    {
      "cell_type": "code",
      "source": [
        "pip install cufflinks -q"
      ],
      "metadata": {
        "id": "4lKmTEmgKF6S"
      },
      "execution_count": null,
      "outputs": []
    },
    {
      "cell_type": "code",
      "execution_count": null,
      "metadata": {
        "id": "Qi4ephQgh3uA"
      },
      "outputs": [],
      "source": [
        "npm install -g npm -q"
      ]
    },
    {
      "cell_type": "code",
      "execution_count": null,
      "metadata": {
        "id": "61_EmTBPcgX3",
        "colab": {
          "base_uri": "https://localhost:8080/"
        },
        "outputId": "e0a3af57-0db1-4793-9974-bff30b40acbb"
      },
      "outputs": [
        {
          "output_type": "stream",
          "name": "stdout",
          "text": [
            "Overwriting main.py\n"
          ]
        }
      ],
      "source": [
        "%%writefile main.py\n",
        "import streamlit as st\n",
        "import pandas as pd\n",
        "import numpy as np\n",
        "import keras\n",
        "import yfinance as yf\n",
        "import cufflinks as cf\n",
        "import base64\n",
        "import matplotlib.pyplot as plt\n",
        "import seaborn as sns\n",
        "import chart_studio.plotly as plotly\n",
        "import plotly.figure_factory as ff\n",
        "import spacy\n",
        "import os\n",
        "from spacy import displacy\n",
        "from bs4 import BeautifulSoup\n",
        "import requests\n",
        "import matplotlib\n",
        "from plotly import graph_objs as go\n",
        "from fbprophet import Prophet\n",
        "from fbprophet.plot import plot_plotly\n",
        "from datetime import date\n",
        "from PIL import Image\n",
        "from datetime import datetime\n",
        "import lxml\n",
        "from lxml import html\n",
        "\n",
        "img = Image.open('/content/drive/MyDrive/png/Share.png')\n",
        "st.set_page_config(page_title='$HARE BAZZA₹', page_icon=img)\n",
        "\n",
        "\n",
        "\n",
        "hide_menu_style = \"\"\"\n",
        "<style>\n",
        "\n",
        "footer {visibility: hidden; }\n",
        "</style>\n",
        "\"\"\"\n",
        "st.markdown(hide_menu_style, unsafe_allow_html=True)\n",
        "\n",
        "START = \"2015-01-01\"\n",
        "TODAY = date.today().strftime(\"%Y-%m-%d\")\n",
        "\n",
        "\n",
        "st.sidebar.title('Select Stocks')\n",
        "stocks = ('ITC.NS','AMARAJABAT.NS',\n",
        "'3MINDIA.NS','ABB.NS','POWERINDIA.NS','ACC.NS','AIAENG.NS','APLAPOLLO.NS','AUBANK.NS',\n",
        "'AARTIDRUGS.NS','AARTIIND.NS','AAVAS.NS','ABBOTINDIA.NS','ADANIENT.NS','ADANIGREEN.NS',\n",
        "'ADANIPORTS.NS','ATGL.NS','ADANITRANS.NS','ABCAPITAL.NS','ABFRL.NS','ADVENZYMES.NS',\n",
        "'AEGISCHEM.NS','AFFLE.NS','AJANTPHARM.NS','AKZOINDIA.NS','ALEMBICLTD.NS','APLLTD.NS',\n",
        "'ALKEM.NS','ALKYLAMINE.NS','ALOKINDS.NS','AMARAJABAT.NS','AMBER.NS','AMBUJACEM.NS',\n",
        "'ANGELBRKG.NS','APOLLOHOSP.NS','APOLLOTYRE.NS','ASAHIINDIA.NS','ASHOKLEY.NS',\n",
        "'ASHOKA.NS','ASIANPAINT.NS','ASTRAZEN.NS','ASTRAL.NS','ATUL.NS','AUROPHARMA.NS',\n",
        "'AVANTIFEED.NS','DMART.NS','AXISBANK.NS','BASF.NS','BEML.NS','BSE.NS','BAJAJAUTO.NS',\n",
        "'BAJAJCON.NS','BAJAJELEC.NS','BAJFINANCE.NS','BAJAJFINSV.NS','BAJAJHLDNG.NS',\n",
        "'BALAMINES.NS','BALKRISIND.NS',\n",
        "'BALMLAWRIE.NS',\n",
        "'BANDHANBNK.NS','BANKBARODA.NS','BANKINDIA.NS','MAHABANK.NS','BATAINDIA.NS',\n",
        "'BAYERCROP.NS','BERGEPAINT.NS','BDL.NS','BEL.NS','BHARATFORG.NS','BHEL.NS','BPCL.NS',\n",
        "'BHARATRAS.NS','BHARTIARTL.NS','BIOCON.NS','BIRLACORPN.NS','BSOFT.NS','BLISSGVS.NS',\n",
        "'BLUEDART.NS','BBTC.NS','BOSCHLTD.NS','BRIGADE.NS','BRITANNIA.NS','BURGERKING.NS',\n",
        "'CCL.NS','CESC.NS','CRISIL.NS','CSBBANK.NS','CADILAHC.NS','CANFINHOME.NS','CANBK.NS',\n",
        "'CAPLIPOINT.NS','CGCL.NS','CARBORUNIV.NS','CASTROLIND.NS','CEATLTD.NS','CENTRALBK.NS',\n",
        "'CDSL.NS',\n",
        "'CENTURYTEX.NS','CERA.NS','CHALET.NS','CHAMBLFERT.NS','CHOLAHLDNG.NS','CHOLAFIN.NS',\n",
        "'CIPLA.NS','CUB.NS','COALINDIA.NS','COCHINSHIP.NS','COFORGE.NS','COLPAL.NS','CAMS.NS',\n",
        "'CONCOR.NS','COROMANDEL.NS','CREDITACC.NS','CROMPTON.NS','CUMMINSIND.NS',\n",
        "'CYIENT.NS',\n",
        "'DCMSHRIRAM.NS','DLF.NS','DABUR.NS','DALBHARAT.NS','DEEPAKNTR.NS','DELTACORP.NS',\n",
        "'DHANI.NS','DHANUKA.NS','DBL.NS','DISHTV.NS','DCAL.NS','DIVISLAB.NS','DIXON.NS',\n",
        "'LALPATHLAB.NS','DRREDDY.NS','EICHERMOT.NS','EIDPARRY.NS','EIHOTEL.NS','EPL.NS','EDELWEISS.NS',\n",
        "'ELGIEQUIP.NS','EMAMILTD.NS','ENDURANCE.NS','ENGINERSIN.NS','EQUITAS.NS','ERIS.NS',\n",
        "'ESCORTS.NS','EXIDEIND.NS','FDC.NS','FEDERALBNK.NS','FINEORG.NS','FINCABLES.NS',\n",
        "'FINPIPE.NS','FSL.NS','FORTIS.NS','FCONSUMER.NS','FRETAIL.NS','GAIL.NS','GEPIL.NS',\n",
        "'GMRINFRA.NS','GALAXYSURF.NS','GRSE.NS','GARFIBRES.NS','GICRE.NS','GILLETTE.NS',\n",
        "'GLAND.NS','GLAXO.NS','GLENMARK.NS','GODFRYPHLP.NS','GODREJAGRO.NS','GODREJCP.NS',\n",
        "'GODREJIND.NS','GODREJPROP.NS','GRANULES.NS','GRAPHITE.NS','GRASIM.NS','GESHIP.NS',\n",
        "'GREAVESCOT.NS', 'GUJALKALI.NS','GAEL.NS','FLUOROCHEM.NS','GUJGASLTD.NS','GNFC.NS','GPPL.NS','GSFC.NS',\n",
        "'GSPL.NS','GULFOILLUB.NS','HEG.NS','HCLTECH.NS','HDFCAMC.NS','HDFCBANK.NS',\n",
        "'HDFCLIFE.NS','HFCL.NS','HAPPSTMNDS.NS','HATSUN.NS','HAVELLS.NS','HEIDELBERG.NS',\n",
        "'HEROMOTOCO.NS','HSCL.NS','HINDALCO.NS','HAL.NS','HINDCOPPER.NS','HINDPETRO.NS',\n",
        "'HINDUNILVR.NS','HINDZINC.NS','HONAUT.NS','HUDCO.NS','HDFC.NS','HUHTAMAKI.NS',\n",
        "'ICICIBANK.NS','ICICIGI.NS','ICICIPRULI.NS','ISEC.NS','IDBI.NS','IDFCFIRSTB.NS','IDFC.NS',\n",
        "'IIFL.NS','IIFLWAM.NS','IOLCP.NS','IRB.NS','IRCON.NS','ITC.NS','ITI.NS','INDIACEM.NS',\n",
        "'IBULHSGFIN.NS','IBREALEST.NS','INDIAMART.NS','INDIANB.NS','IEX.NS','INDHOTEL.NS','IOC.NS',\n",
        "'IOB.NS','IRCTC.NS','ICIL.NS','INDOCO.NS',\n",
        "'INDUSTOWER.NS','INDUSINDBK.NS','INFIBEAM.NS','NAUKRI.NS','INFY.NS','INGERRAND.NS',\n",
        "'INOXLEISUR.NS','INTELLECT.NS','INDIGO.NS','IPCALAB.NS','JBCHEPHARM.NS','JKCEMENT.NS',\n",
        "'JKLAKSHMI.NS','JKPAPER.NS','JKTYRE.NS','JMFINANCIL.NS','JSWENERGY.NS','JSWSTEEL.NS',\n",
        "'JTEKTINDIA.NS',\n",
        "'JINDALSAW.NS','JSLHISAR.NS','JSL.NS','JINDALSTEL.NS','JCHAC.NS','JUBLFOOD.NS',\n",
        "'JUSTDIAL.NS','JYOTHYLAB.NS','KPRMILL.NS','KEI.NS','KNRCON.NS','KPITTECH.NS','KRBL.NS',\n",
        "'KSB.NS','KAJARIACER.NS','KALPATPOWR.NS','KANSAINER.NS','KARURVYSYA.NS','KSCL.NS',\n",
        "'KOTAKBANK.NS','L&TFH.NS','LTTS.NS','LICHSGFIN.NS','LAOPALA.NS','LAXMIMACH.NS','LTI.NS',\n",
        "'LT.NS','LAURUSLABS.NS','LEMONTREE.NS','LINDEINDIA.NS','LUPIN.NS','LUXIND.NS','MASFIN.NS',\n",
        "'MMTC.NS','MOIL.NS','MRF.NS','MGL.NS','MAHSCOOTER.NS',\n",
        "'M&MFIN.NS','M&M.NS','MAHINDCIE.NS','MHRIL.NS','MAHLOG.NS','MANAPPURAM.NS','MRPL.NS',\n",
        "'MARICO.NS','MARUTI.NS','MFSL.NS','MAXHEALTH.NS','MAZDOCK.NS','METROPOLIS.NS',\n",
        "'MINDTREE.NS','MINDACORP.NS','MINDAIND.NS','MIDHANI.NS','MOTILALOFS.NS','MPHASIS.NS',\n",
        "'MUTHOOTFIN.NS','NATCOPHARM.NS','NBCC.NS','NCC.NS','NESCO.NS','NHPC.NS','NLCINDIA.NS',\n",
        "'NMDC.NS','NOCIL.NS','NTPC.NS','NH.NS','NATIONALUM.NS','NFL.NS','NAVINFLUOR.NS',\n",
        "'NESTLEIND.NS','NETWORK18.NS','NILKAMAL.NS','NAM-INDIA.NS','OBEROIRLTY.NS',\n",
        "'OIL.NS','OFSS.NS','ORIENTELEC.NS','PIIND.NS','PNBHOUSING.NS','PNCINFRA.NS','PVR.NS',\n",
        "'PAGEIND.NS','PERSISTENT.NS','PETRONET.NS','PFIZER.NS','PHILIPCARB.NS','PHOENIXLTD.NS',\n",
        "'PIDILITIND.NS','PEL.NS','POLYMED.NS','POLYCAB.NS','POLYPLEX.NS','PFC.NS',\n",
        "'PRESTIGE.NS','PRINCEPIPE.NS','PRSMJOHNSN.NS','PGHL.NS','PGHH.NS','PNB.NS','QUESS.NS',\n",
        "'RBLBANK.NS','RECLTD.NS','RHIM.NS','RITES.NS','RADICO.NS','RVNL.NS','RAIN.NS',\n",
        "'RAJESHEXPO.NS','RALLIS.NS','RCF.NS','RATNAMANI.NS','RAYMOND.NS',\n",
        "'RELAXO.NS','RELIANCE.NS','RESPONIND.NS','ROSSARI.NS','ROUTE.NS','SBICARD.NS',\n",
        "'SBILIFE.NS','SIS.NS','SJVN.NS','SKFINDIA.NS','SRF.NS','SANOFI.NS','SCHAEFFLER.NS',\n",
        "'SCHNEIDER.NS','SEQUENT.NS','SHARDACROP.NS','SFL.NS','SHILPAMED.NS','SCI.NS',\n",
        "'SHREECEM.NS','SHRIRAMCIT.NS','SRTRANSFIN.NS','SIEMENS.NS','SOBHA.NS','SOLARINDS.NS',\n",
        "'SOLARA.NS','SONATSOFTW.NS','SPANDANA.NS','SPICEJET.NS','STARCEMENT.NS','SBIN.NS',\n",
        "'SAIL.NS','SWSOLAR.NS','STLTECH.NS','STAR.NS','SUDARSCHEM.NS','SUMICHEM.NS','SPARC.NS',\n",
        "'SUNTV.NS','SUNCLAYLTD.NS','SUNDARMFIN.NS','SUNDRMFAST.NS','SUNTECK.NS',\n",
        "'SUPRAJIT.NS','SUPREMEIND.NS','SUPPETRO.NS','SUVENPHAR.NS','SUZLON.NS',\n",
        "'SWANENERGY.NS','SYMPHONY.NS','SYNGENE.NS','TCIEXP.NS','TCNSBRANDS.NS',\n",
        "'TTKPRESTIG.NS','TV18BRDCST.NS','TVSMOTOR.NS','TANLA.NS',\n",
        "'TATACHEM.NS','TATACOFFEE.NS','TATACOMM.NS','TCS.NS','TATACONSUM.NS','TATAELXSI.NS',\n",
        "'TATAINVEST.NS','TATAMTRDVR.NS','TATAMOTORS.NS','TATAPOWER.NS','TATASTEEL.NS',\n",
        "'TEAMLEASE.NS','TECHM.NS','NIACL.NS','RAMCOCEM.NS','THERMAX.NS','THYROCARE.NS',\n",
        "'TIMKEN.NS','TITAN.NS',\n",
        "'TORNTPOWER.NS','TRENT.NS','TRIDENT.NS','TRITURBINE.NS','TIINDIA.NS','UCOBANK.NS',\n",
        "'UFLEX.NS','UPL.NS','UTIAMC.NS','UJJIVAN.NS','UJJIVANSFB.NS','ULTRACEMCO.NS',\n",
        "'UNIONBANK.NS','UBL.NS','MCDOWELL-N.NS','VGUARD.NS','VMART.NS','VIPIND.NS','VSTIND.NS',\n",
        "'VAKRANGEE.NS','VALIANTORG.NS','VTL.NS','VARROC.NS','VBL.NS','VEDL.NS','VENKEYS.NS',\n",
        "'VINATIORGA.NS','IDEA.NS','VOLTAS.NS','WABCOINDIA.NS','WELCORP.NS','WELSPUNIND.NS',\n",
        "'WESTLIFE.NS','WHIRLPOOL.NS','WIPRO.NS','WOCKPHARMA.NS','YESBANK.NS','ZEEL.NS',\n",
        "'ZYDUSWELL.NS','ECLERX.NS'\n",
        "\n",
        "\n",
        "\n",
        "\n",
        "\n",
        ")\n",
        "selected_stock = st.sidebar.selectbox('',stocks)\n",
        "\n",
        "year = st.sidebar.slider('Years Of Prediction:', 1, 4)\n",
        "period = year * 365\n",
        "\n",
        "st.title('Predict Your Future')\n",
        "\n",
        "@st.cache\n",
        "def load_data(ticker):\n",
        "    data = yf.download(ticker, START, TODAY)\n",
        "    data.reset_index(inplace=True)\n",
        "    return data\n",
        "\n",
        "    \n",
        "data_load_state = st.text('Loading Data...')\n",
        "data = load_data(selected_stock)\n",
        "data_load_state.text('Done!')\n",
        "\n",
        "st.subheader(selected_stock)\n",
        "st.write(data.tail())\n",
        "\n",
        "\n",
        "\n",
        "# Plot raw data\n",
        "\n",
        "def plot_fig():\n",
        "    fig = go.Figure()\n",
        "    #fig.add_trace(go.Scatter(x=data['Date'], y=data['Open'], name=\"stock_open\",line_color='#098E1D'))\n",
        "    #fig.add_trace(go.Scatter(x=data['Date'], y=data['Close'], name=\"stock_close\",line_color='#F1190F'))\n",
        "    fig.add_trace(go.Candlestick(x=data['Date'],open=data['Open'],high=data['High'],low=data['Low'],close=data['Close']))\n",
        "    fig.layout.update(title_text='['+selected_stock+']' 'Chart View', xaxis_rangeslider_visible=True)\n",
        "    st.plotly_chart(fig)\n",
        "    \n",
        "\n",
        "if st.checkbox('Market Depth'):\n",
        "    st.subheader(selected_stock)\n",
        "    st.write(data)\n",
        "    \n",
        "# plotting the figure of Actual Data\n",
        "plot_fig()\n",
        "\n",
        "# Boillinger Bands\n",
        "st.header('**Bollinger Bands**')\n",
        "qf=cf.QuantFig(data,title='First Quant Figure',legend='top',name='GS')\n",
        "qf.add_bollinger_bands()\n",
        "fig = qf.iplot(asFigure=True)\n",
        "st.plotly_chart(fig)\n",
        "\n",
        "\n",
        "# preparing the data for Facebook-Prophet.\n",
        "\n",
        "data_pred = data[['Date','Close']]\n",
        "data_pred=data_pred.rename(columns={\"Date\": \"ds\", \"Close\": \"y\"})\n",
        "\n",
        "# code for facebook prophet prediction\n",
        "\n",
        "m = Prophet()\n",
        "m.fit(data_pred)\n",
        "future = m.make_future_dataframe(periods=period)\n",
        "forecast = m.predict(future)\n",
        "\n",
        "#plot forecast\n",
        "\n",
        "fig1 = plot_plotly(m, forecast)\n",
        "if st.checkbox('Predicted Data'):\n",
        "    st.subheader('['+selected_stock+']''Predicted data')\n",
        "    st.write(forecast)\n",
        "st.subheader('PREDICTION FOR: '+str(year)+'year')\n",
        "st.plotly_chart(fig1)\n",
        "\n",
        "\n",
        "#plot component wise forecast\n",
        "st.subheader(\"Time Frame Forecast\")\n",
        "fig2 = m.plot_components(forecast)\n",
        "st.write(fig2)\n",
        "\n",
        "st.title('Events & Workshop')\n",
        "st.write(\"$HARE BAZZA₹\")\n",
        "\n",
        "st.image(['/content/drive/MyDrive/png/Shareall.jpg'])\n",
        "\n",
        "st.subheader('🙂Open Your Demat Account In Few Minutes🙂')\n",
        "st.write('https://zerodha.com/open-account?c=OGY600')\n",
        "\n",
        "\n",
        "## For NEWS\n",
        "\n",
        "st.title('Buzzing Stocks News :zap:')\n",
        "\n",
        "## get data from RSS feed\n",
        "def extract_text_from_rss(rss_link):\n",
        "    \"\"\"\n",
        "    Parses the XML and extracts the headings from the \n",
        "    links in a python list.\n",
        "\n",
        "    \"\"\"\n",
        "    headings = []\n",
        "    r1 = requests.get('https://economictimes.indiatimes.com/markets/stocks/rssfeeds/2146842.cms')\n",
        "    r2 = requests.get(rss_link)\n",
        "    soup1 = BeautifulSoup(r1.content, features='lxml')\n",
        "    soup2 = BeautifulSoup(r2.content, features='lxml')\n",
        "    headings1 = soup1.findAll('title')\n",
        "    headings2 = (soup2.findAll('title'))\n",
        "    print(headings2)\n",
        "    headings = headings1 + headings2\n",
        "    return headings\n",
        "\n",
        "\n",
        "token_dict = {\n",
        "    'Org': [],\n",
        "    'Symbol': [],\n",
        "    'currentPrice': [],\n",
        "    'dayHigh': [],\n",
        "    'dayLow': [],\n",
        "    'forwardPE': [],\n",
        "    'dividendYield': []\n",
        "}\n",
        "nlp = spacy.load(\"en_core_web_sm\")\n",
        "\n",
        "def stock_info(headings):\n",
        "    \"\"\"\n",
        "    Goes over each heading to find out the entities\n",
        "    and link it with the nifty 500 companies data.\n",
        "    Extracts the data \n",
        "    \"\"\"\n",
        "    stocks_df = pd.read_csv(\"/content/drive/MyDrive/png/ind_nifty500list.csv\")\n",
        "    for title in headings:\n",
        "        doc = nlp(title.text)\n",
        "        for token in doc.ents:\n",
        "            try:\n",
        "                if stocks_df['Company Name'].str.contains(token.text).sum():\n",
        "                    symbol = stocks_df[stocks_df['Company Name'].\\\n",
        "                                        str.contains(token.text)]['Symbol'].values[0]\n",
        "                    org_name = stocks_df[stocks_df['Company Name'].\\\n",
        "                                        str.contains(token.text)]['Company Name'].values[0]\n",
        "                    token_dict['Org'].append(org_name)\n",
        "                    print(symbol+\".NS\")\n",
        "                    token_dict['Symbol'].append(symbol)\n",
        "                    stock_info = yf.Ticker(symbol+\".NS\").info\n",
        "                    token_dict['currentPrice'].append(stock_info['currentPrice'])\n",
        "                    token_dict['dayHigh'].append(stock_info['dayHigh'])\n",
        "                    token_dict['dayLow'].append(stock_info['dayLow'])\n",
        "                    token_dict['forwardPE'].append(stock_info['forwardPE'])\n",
        "                    token_dict['dividendYield'].append(stock_info['dividendYield'])\n",
        "                else:\n",
        "                    pass\n",
        "            except:\n",
        "                pass\n",
        "    output_df = pd.DataFrame(token_dict)\n",
        "    return output_df\n",
        "\n",
        "\n",
        "\n",
        "## add an input field to pass the RSS link\n",
        "user_input = st.text_input(\"Add your RSS link here!\", \"https://www.moneycontrol.com/rss/buzzingstocks.xml\")\n",
        "\n",
        "## get the financial  headings\n",
        "fin_headings = extract_text_from_rss(user_input)\n",
        "\n",
        "## output the financial info through a dataframe \n",
        "output_df = stock_info(fin_headings)\n",
        "output_df.drop_duplicates(inplace=True)\n",
        "st.dataframe(output_df)\n",
        "\n",
        "## display the news in an expander section\n",
        "with st.expander(\"Expand for Financial News!\"):\n",
        "    for h in fin_headings:\n",
        "        st.markdown(\"* \" + h.text)\n"
      ]
    },
    {
      "cell_type": "code",
      "source": [
        "!streamlit run main.py & npx localtunnel --port 8501 & npm install -g localtunnel & yarn add localtunnel"
      ],
      "metadata": {
        "id": "kpfjLF_HK9zI",
        "colab": {
          "base_uri": "https://localhost:8080/"
        },
        "outputId": "cd38f86c-bcf0-450d-af88-9f0ca45653a9"
      },
      "execution_count": null,
      "outputs": [
        {
          "output_type": "stream",
          "name": "stdout",
          "text": [
            "\u001b[34m  Stopping...\u001b[0m\n"
          ]
        }
      ]
    }
  ],
  "metadata": {
    "colab": {
      "collapsed_sections": [],
      "name": "Advanced.ipynb",
      "provenance": []
    },
    "kernelspec": {
      "display_name": "Python 3",
      "name": "python3"
    },
    "language_info": {
      "name": "python"
    }
  },
  "nbformat": 4,
  "nbformat_minor": 0
}